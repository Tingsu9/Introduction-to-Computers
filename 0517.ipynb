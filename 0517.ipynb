{
  "nbformat": 4,
  "nbformat_minor": 0,
  "metadata": {
    "colab": {
      "provenance": [],
      "authorship_tag": "ABX9TyMf9GgR48ZedmTApUbpvpqN",
      "include_colab_link": true
    },
    "kernelspec": {
      "name": "python3",
      "display_name": "Python 3"
    },
    "language_info": {
      "name": "python"
    }
  },
  "cells": [
    {
      "cell_type": "markdown",
      "metadata": {
        "id": "view-in-github",
        "colab_type": "text"
      },
      "source": [
        "<a href=\"https://colab.research.google.com/github/Tingsu9/Introduction-to-Computers/blob/main/0517.ipynb\" target=\"_parent\"><img src=\"https://colab.research.google.com/assets/colab-badge.svg\" alt=\"Open In Colab\"/></a>"
      ]
    },
    {
      "cell_type": "code",
      "execution_count": 1,
      "metadata": {
        "colab": {
          "base_uri": "https://localhost:8080/"
        },
        "id": "mt7_SBq12a5F",
        "outputId": "db6d791b-c518-4bb6-fc76-83745ada4b46"
      },
      "outputs": [
        {
          "output_type": "stream",
          "name": "stdout",
          "text": [
            "score: 90\n",
            "Grade is: A\n"
          ]
        }
      ],
      "source": [
        "# 1.成績\n",
        "score = int(input(\"score: \"))\n",
        "if score >= 90:\n",
        "    print('Grade is: A')\n",
        "elif score >= 80:\n",
        "    print('Grade is: B')\n",
        "elif score >= 70:\n",
        "    print('Grade is: C')\n",
        "elif score >= 60:\n",
        "    print('Grade is: D')\n",
        "else:\n",
        "    print('Grade is: F')"
      ]
    },
    {
      "cell_type": "code",
      "source": [
        "# 2.帶傘\n",
        "rain = input(\"今天會下雨嗎: \")\n",
        "if (rain==\"Y\" or rain==\"y\"):\n",
        "  print(\"出門記得帶傘！\")\n",
        "elif (rain==\"N\" or rain==\"n\"):\n",
        "  print(\"不用帶傘！\")\n",
        "else:\n",
        "  print(\"請重新輸入！\")"
      ],
      "metadata": {
        "colab": {
          "base_uri": "https://localhost:8080/"
        },
        "id": "182zheXODoND",
        "outputId": "d8d5f332-40f9-48b0-9987-03d61b3f05f3"
      },
      "execution_count": 2,
      "outputs": [
        {
          "output_type": "stream",
          "name": "stdout",
          "text": [
            "今天會下雨嗎: Y\n",
            "出門記得帶傘！\n"
          ]
        }
      ]
    },
    {
      "cell_type": "code",
      "source": [
        "# 3.體溫\n",
        "tem = float(input(\"請輸入體溫： \"))\n",
        "if (tem >= 37.5):\n",
        "  print(\"體溫過高！\")\n",
        "elif (tem >= 37 and tem <= 37.4):\n",
        "  print(\"體溫略高！\")\n",
        "elif (tem >= 34 and tem <= 36.9):\n",
        "  print(\"體溫正常！\")\n",
        "else:\n",
        "  print(\"體溫異常，請重新量測！\")"
      ],
      "metadata": {
        "colab": {
          "base_uri": "https://localhost:8080/"
        },
        "id": "OX1lfWmvFo1i",
        "outputId": "cd02cf3d-9545-4915-c2c7-2421879bda9f"
      },
      "execution_count": 7,
      "outputs": [
        {
          "output_type": "stream",
          "name": "stdout",
          "text": [
            "請輸入體溫： 20\n",
            "體溫異常，請重新量測！\n"
          ]
        }
      ]
    },
    {
      "cell_type": "code",
      "source": [
        "# 4-1.成績\n",
        "score = int(input(\"請輸入成績： \"))\n",
        "if score >= 90:\n",
        "  print(\"A\")\n",
        "elif score >= 80:\n",
        "  print(\"B\")\n",
        "elif score >= 70:\n",
        "  print(\"C\")\n",
        "elif score >= 60:\n",
        "  print(\"D\")\n",
        "else:\n",
        "  print(\"E\")"
      ],
      "metadata": {
        "colab": {
          "base_uri": "https://localhost:8080/"
        },
        "id": "0fbdWWo8IRQN",
        "outputId": "2b666232-d797-4771-efd6-c5b914aa41c7"
      },
      "execution_count": 8,
      "outputs": [
        {
          "output_type": "stream",
          "name": "stdout",
          "text": [
            "請輸入成績： 90\n",
            "A\n"
          ]
        }
      ]
    },
    {
      "cell_type": "code",
      "source": [
        "# 4-2.成績\n",
        "score = int(input(\"請輸入成績： \"))\n",
        "if score >= 90:\n",
        "  print(\"A\")\n",
        "elif score >= 80:\n",
        "  print(\"B\")\n",
        "elif score >= 70:\n",
        "  print(\"C\")\n",
        "elif score >= 60:\n",
        "  print(\"D\")\n",
        "else:\n",
        "  print(\"E\")"
      ],
      "metadata": {
        "colab": {
          "base_uri": "https://localhost:8080/"
        },
        "id": "SWF5ynXwJc5P",
        "outputId": "d50c10e9-8bfb-4a93-ca09-2e777ffa67e7"
      },
      "execution_count": 9,
      "outputs": [
        {
          "output_type": "stream",
          "name": "stdout",
          "text": [
            "請輸入成績： 80\n",
            "B\n"
          ]
        }
      ]
    },
    {
      "cell_type": "code",
      "source": [
        "# 4-3.成績\n",
        "score = int(input(\"請輸入成績： \"))\n",
        "if score >= 90:\n",
        "  print(\"A\")\n",
        "elif score >= 80:\n",
        "  print(\"B\")\n",
        "elif score >= 70:\n",
        "  print(\"C\")\n",
        "elif score >= 60:\n",
        "  print(\"D\")\n",
        "else:\n",
        "  print(\"E\")"
      ],
      "metadata": {
        "colab": {
          "base_uri": "https://localhost:8080/"
        },
        "id": "haTdvTIRJga5",
        "outputId": "ab20eda9-6513-49c4-b419-a89e40337407"
      },
      "execution_count": 10,
      "outputs": [
        {
          "output_type": "stream",
          "name": "stdout",
          "text": [
            "請輸入成績： 50\n",
            "E\n"
          ]
        }
      ]
    },
    {
      "cell_type": "code",
      "source": [
        "# 5.季節\n",
        "month = int(input(\"請輸入月份: \"))\n",
        "if (month==3 or month==4 or month==5):\n",
        "  print(\"%i月是春天！\" %month)\n",
        "elif (month==6 or month==7 or month==8):\n",
        "  print(\"%i月是夏天！\" %month)\n",
        "elif (month==9 or month==10 or month==11):\n",
        "  print(\"%i月是秋天！\" %month)\n",
        "elif (month==12 or month==1 or month==2):\n",
        "  print(\"%i月是冬天！\" %month)\n",
        "else:\n",
        "  print(\"月份不再範圍內！\")"
      ],
      "metadata": {
        "colab": {
          "base_uri": "https://localhost:8080/"
        },
        "id": "PDoFU3PZJmj3",
        "outputId": "cf4b3c86-6d1c-4efa-943c-181158f7f662"
      },
      "execution_count": 18,
      "outputs": [
        {
          "output_type": "stream",
          "name": "stdout",
          "text": [
            "請輸入月份: 9\n",
            "9月是秋天！\n"
          ]
        }
      ]
    },
    {
      "cell_type": "code",
      "source": [
        "# 6-1.稅金\n",
        "money = int(input(\"請輸入今年收入淨額: \"))\n",
        "if money >= 2000000:\n",
        "  money = money * 0.3\n",
        "  print(\"付稅金額: %.1f 元\" %money)\n",
        "elif money >= 1000000:\n",
        "  money = money * 0.21\n",
        "  print(\"付稅金額: %.1f 元\" %money)\n",
        "elif money >= 600000:\n",
        "  money = money * 0.13\n",
        "  print(\"付稅金額: %.1f 元\" %money)\n",
        "elif money >= 300000:\n",
        "  money = money * 0.06\n",
        "  print(\"付稅金額: %.1f 元\" %money)\n",
        "else:\n",
        "  print(\"付稅金額: 0 元\")"
      ],
      "metadata": {
        "colab": {
          "base_uri": "https://localhost:8080/"
        },
        "id": "x6cWa43uLx1u",
        "outputId": "0b82afd7-1f7b-4b86-b2f5-7a59512c8dd8"
      },
      "execution_count": 24,
      "outputs": [
        {
          "output_type": "stream",
          "name": "stdout",
          "text": [
            "請輸入今年收入淨額: 100000\n",
            "付稅金額: 0 元\n"
          ]
        }
      ]
    },
    {
      "cell_type": "code",
      "source": [
        "# 6-2.稅金\n",
        "money = int(input(\"請輸入今年收入淨額: \"))\n",
        "if money >= 2000000:\n",
        "  money = money * 0.3\n",
        "  print(\"付稅金額: %.1f 元\" %money)\n",
        "elif money >= 1000000:\n",
        "  money = money * 0.21\n",
        "  print(\"付稅金額: %.1f 元\" %money)\n",
        "elif money >= 600000:\n",
        "  money = money * 0.13\n",
        "  print(\"付稅金額: %.1f 元\" %money)\n",
        "elif money >= 300000:\n",
        "  money = money * 0.06\n",
        "  print(\"付稅金額: %.1f 元\" %money)\n",
        "else:\n",
        "  print(\"付稅金額: 0 元\")"
      ],
      "metadata": {
        "colab": {
          "base_uri": "https://localhost:8080/"
        },
        "id": "-cC7yNeWO0DD",
        "outputId": "790b9a6e-fd77-483a-da07-77f335f03fcf"
      },
      "execution_count": 25,
      "outputs": [
        {
          "output_type": "stream",
          "name": "stdout",
          "text": [
            "請輸入今年收入淨額: 2000000\n",
            "付稅金額: 600000.0 元\n"
          ]
        }
      ]
    }
  ]
}