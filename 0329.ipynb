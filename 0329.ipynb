{
  "nbformat": 4,
  "nbformat_minor": 0,
  "metadata": {
    "colab": {
      "provenance": [],
      "authorship_tag": "ABX9TyP7dbxpnX7AXSWj4q0mSprE",
      "include_colab_link": true
    },
    "kernelspec": {
      "name": "python3",
      "display_name": "Python 3"
    },
    "language_info": {
      "name": "python"
    }
  },
  "cells": [
    {
      "cell_type": "markdown",
      "metadata": {
        "id": "view-in-github",
        "colab_type": "text"
      },
      "source": [
        "<a href=\"https://colab.research.google.com/github/Tingsu9/Introduction-to-Computers/blob/main/0329.ipynb\" target=\"_parent\"><img src=\"https://colab.research.google.com/assets/colab-badge.svg\" alt=\"Open In Colab\"/></a>"
      ]
    },
    {
      "cell_type": "code",
      "source": [
        "# BMI計算"
      ],
      "metadata": {
        "id": "Kx6EawKcNx4Q"
      },
      "execution_count": null,
      "outputs": []
    },
    {
      "cell_type": "code",
      "execution_count": 7,
      "metadata": {
        "colab": {
          "base_uri": "https://localhost:8080/"
        },
        "id": "8cFLFTuBMAtv",
        "outputId": "1aa0cda7-e045-442f-fb3d-de40c4e183e9"
      },
      "outputs": [
        {
          "output_type": "stream",
          "name": "stdout",
          "text": [
            "請輸入您的身高(cm):180\n",
            "請輸入您的體重(kg):80\n",
            "BMI值為: 24.69\n"
          ]
        }
      ],
      "source": [
        "height_cm = int(input(\"請輸入您的身高(cm):\"))\n",
        "weight = int(input(\"請輸入您的體重(kg):\"))\n",
        "height_m = height_cm/100 \n",
        "BMI = weight / height_m ** 2\n",
        "print(\"BMI值為: %3.2f\" % BMI)"
      ]
    },
    {
      "cell_type": "code",
      "source": [
        "# 比較運算子"
      ],
      "metadata": {
        "id": "YoPPHpSwP2QK"
      },
      "execution_count": null,
      "outputs": []
    },
    {
      "cell_type": "code",
      "source": [
        "# ==\n",
        "print (6+9==2+13)\n",
        "print (8+9==2+13)\n",
        "# !=\n",
        "print (8+9!=2+13)\n",
        "print (6+9!=2+13)\n",
        "# >\n",
        "print (8+9>2+13)\n",
        "print (6+9>2+13)\n",
        "# <\n",
        "print (5+9<2+13)\n",
        "print (8+9<2+13)\n",
        "# >=\n",
        "print (6+9>=2+13)\n",
        "print (3+9>=2+13)\n",
        "# <=\n",
        "print (3+9<=2+13)\n",
        "print (8+9<=2+13)"
      ],
      "metadata": {
        "colab": {
          "base_uri": "https://localhost:8080/"
        },
        "id": "uNOcPSxsP971",
        "outputId": "e92dd47d-65e7-4fa2-b297-25bd19ffd87f"
      },
      "execution_count": 8,
      "outputs": [
        {
          "output_type": "stream",
          "name": "stdout",
          "text": [
            "True\n",
            "False\n",
            "True\n",
            "False\n",
            "True\n",
            "False\n",
            "True\n",
            "False\n",
            "True\n",
            "False\n",
            "True\n",
            "False\n"
          ]
        }
      ]
    }
  ]
}