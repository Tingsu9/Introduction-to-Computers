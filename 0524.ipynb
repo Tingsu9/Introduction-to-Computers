{
  "nbformat": 4,
  "nbformat_minor": 0,
  "metadata": {
    "colab": {
      "provenance": [],
      "authorship_tag": "ABX9TyMban+dgOF4zb99IFopvW3g",
      "include_colab_link": true
    },
    "kernelspec": {
      "name": "python3",
      "display_name": "Python 3"
    },
    "language_info": {
      "name": "python"
    }
  },
  "cells": [
    {
      "cell_type": "markdown",
      "metadata": {
        "id": "view-in-github",
        "colab_type": "text"
      },
      "source": [
        "<a href=\"https://colab.research.google.com/github/Tingsu9/Introduction-to-Computers/blob/main/0524.ipynb\" target=\"_parent\"><img src=\"https://colab.research.google.com/assets/colab-badge.svg\" alt=\"Open In Colab\"/></a>"
      ]
    },
    {
      "cell_type": "code",
      "execution_count": 1,
      "metadata": {
        "colab": {
          "base_uri": "https://localhost:8080/"
        },
        "id": "9qj53Llk1HNo",
        "outputId": "b7406cfb-5a6e-4cf6-d8e6-5c42a131eb09"
      },
      "outputs": [
        {
          "output_type": "stream",
          "name": "stdout",
          "text": [
            "Hi\n"
          ]
        }
      ],
      "source": [
        "print(\"Hi\")"
      ]
    },
    {
      "cell_type": "code",
      "source": [
        "# 4\n",
        "a = list(range(9))\n",
        "b = list(range(1,10))\n",
        "c = list(range(1,10,2))\n",
        "d = list(range(10,1,-2))\n",
        "print(a)\n",
        "print(b)\n",
        "print(c)\n",
        "print(d)"
      ],
      "metadata": {
        "colab": {
          "base_uri": "https://localhost:8080/"
        },
        "id": "icZTuMXMFu7R",
        "outputId": "efa3fef1-9547-4c02-f9b2-16675250b8a1"
      },
      "execution_count": 6,
      "outputs": [
        {
          "output_type": "stream",
          "name": "stdout",
          "text": [
            "[0, 1, 2, 3, 4, 5, 6, 7, 8]\n",
            "[1, 2, 3, 4, 5, 6, 7, 8, 9]\n",
            "[1, 3, 5, 7, 9]\n",
            "[10, 8, 6, 4, 2]\n"
          ]
        }
      ]
    },
    {
      "cell_type": "code",
      "source": [
        "# 7\n",
        "# 7-5\n",
        "a = int(input(\"請輸入一個正整數: \"))\n",
        "A = list(range(1,a+1))\n",
        "print(A)\n",
        "# 7-12\n",
        "a = int(input(\"請輸入一個正整數: \"))\n",
        "A = list(range(1,a+1))\n",
        "print(A)"
      ],
      "metadata": {
        "colab": {
          "base_uri": "https://localhost:8080/"
        },
        "id": "wRZSdEqiFvI2",
        "outputId": "ac661423-0caa-4f53-97fd-38544d464edb"
      },
      "execution_count": 8,
      "outputs": [
        {
          "output_type": "stream",
          "name": "stdout",
          "text": [
            "請輸入一個正整數: 5\n",
            "[1, 2, 3, 4, 5]\n",
            "請輸入一個正整數: 12\n",
            "[1, 2, 3, 4, 5, 6, 7, 8, 9, 10, 11, 12]\n"
          ]
        }
      ]
    },
    {
      "cell_type": "code",
      "source": [
        "# 10\n",
        "# 10-10\n",
        "a = int(input(\"請輸入一個正整數: \"))\n",
        "total = 0\n",
        "for i in range(a+1):\n",
        "  total = total + i\n",
        "print(total)\n",
        "# 10-50\n",
        "a = int(input(\"請輸入一個正整數: \"))\n",
        "total = 0\n",
        "for i in range(a+1):\n",
        "  total = total + i\n",
        "print(total)"
      ],
      "metadata": {
        "colab": {
          "base_uri": "https://localhost:8080/"
        },
        "id": "x8osIOSRRxRB",
        "outputId": "2a2eb70f-4db3-448c-9fc4-7ac0292fd532"
      },
      "execution_count": 9,
      "outputs": [
        {
          "output_type": "stream",
          "name": "stdout",
          "text": [
            "請輸入一個正整數: 10\n",
            "55\n",
            "請輸入一個正整數: 50\n",
            "1275\n"
          ]
        }
      ]
    },
    {
      "cell_type": "code",
      "source": [
        "# 11\n",
        "a = int(input(\"請輸入一個正整數: \"))\n",
        "total = 0\n",
        "for i in range(1,a+1):\n",
        " total = total + i  \n",
        " b = \"1到的%s整數和為: \" %i\n",
        " print(b,total)\n"
      ],
      "metadata": {
        "colab": {
          "base_uri": "https://localhost:8080/"
        },
        "id": "dmylMurLVrbn",
        "outputId": "db8e8fed-6e89-46bb-940e-981c48fe831b"
      },
      "execution_count": 24,
      "outputs": [
        {
          "output_type": "stream",
          "name": "stdout",
          "text": [
            "請輸入一個正整數: 10\n",
            "1到的1整數和為:  1\n",
            "1到的2整數和為:  3\n",
            "1到的3整數和為:  6\n",
            "1到的4整數和為:  10\n",
            "1到的5整數和為:  15\n",
            "1到的6整數和為:  21\n",
            "1到的7整數和為:  28\n",
            "1到的8整數和為:  36\n",
            "1到的9整數和為:  45\n",
            "1到的10整數和為:  55\n"
          ]
        }
      ]
    }
  ]
}